{
 "cells": [
  {
   "cell_type": "markdown",
   "metadata": {},
   "source": [
    "**С целью анализа взаимного влияния зарплаты и текучести рабочей силы на пяти однотипных фирмах с одинаковым числом работников проведены измерения уровня месячной зарплаты Х и числа уволившихся за год рабочих Y:**\n",
    "\n",
    "**X 100 150 200 250 300**\n",
    "\n",
    "**Y 60 35 20 20 15**\n",
    "\n",
    "**Найти линейную регрессию Y на X, выборочный коэффициент корреляции.**"
   ]
  },
  {
   "cell_type": "code",
   "execution_count": 14,
   "metadata": {
    "id": "8kLkCTNMVWBL"
   },
   "outputs": [],
   "source": [
    "import numpy as np\n",
    "x = np.array([100,150,200,250,300], dtype=np.float64)\n",
    "y = np.array([60,35,20,20,15], dtype=np.float64)\n",
    "n = len(x)"
   ]
  },
  {
   "cell_type": "markdown",
   "metadata": {
    "collapsed": true,
    "id": "eIcZNHliVWBW"
   },
   "source": [
    "Для нахождения коэффициентов регрессии $a$ и $b$ воспользуемся приведенными выше формулами:"
   ]
  },
  {
   "cell_type": "code",
   "execution_count": 5,
   "metadata": {
    "id": "r1mT4pdSVWBY",
    "outputId": "e19eca9c-25f1-49e7-a699-67ba08a82db7"
   },
   "outputs": [
    {
     "data": {
      "text/plain": [
       "-0.21"
      ]
     },
     "execution_count": 5,
     "metadata": {},
     "output_type": "execute_result"
    }
   ],
   "source": [
    "b = (np.mean(x * y) - np.mean(x) * np.mean(y)) / (np.mean(x**2) - np.mean(x) ** 2)\n",
    "b"
   ]
  },
  {
   "cell_type": "code",
   "execution_count": 6,
   "metadata": {
    "id": "3eenHRuhVWBl",
    "outputId": "a94e9ec9-97c5-439b-e90b-72a6820c1abd"
   },
   "outputs": [
    {
     "data": {
      "text/plain": [
       "72.0"
      ]
     },
     "execution_count": 6,
     "metadata": {},
     "output_type": "execute_result"
    }
   ],
   "source": [
    "a = np.mean(y) - b * np.mean(x)\n",
    "a"
   ]
  },
  {
   "cell_type": "markdown",
   "metadata": {
    "collapsed": true,
    "id": "F4wExIGGVWBv"
   },
   "source": [
    "Итак, уравнение регрессии имеет вид:"
   ]
  },
  {
   "cell_type": "markdown",
   "metadata": {
    "collapsed": true,
    "id": "EAnsjUv4VWB0"
   },
   "source": [
    "$$y = 72 - 0.21 \\cdot x$$"
   ]
  },
  {
   "cell_type": "markdown",
   "metadata": {
    "id": "GSvgSj2WVWB2"
   },
   "source": [
    "С увеличением уровня зарплаты число уволившихся рабочих снижается."
   ]
  },
  {
   "cell_type": "markdown",
   "metadata": {
    "id": "Jj60_kNBVWB4"
   },
   "source": [
    "Найдем выборочный коэффициент корреляции $r$ с помощью коэффициента $b$ и средних квадратического отклонения, посчитанного для массивов $x$ и $y$:"
   ]
  },
  {
   "cell_type": "code",
   "execution_count": 10,
   "metadata": {
    "id": "-rzWVsRKVWB5",
    "outputId": "4d3d9d07-92e1-48bd-f785-0c74d808c8f9"
   },
   "outputs": [
    {
     "data": {
      "text/plain": [
       "-0.9036961141150639"
      ]
     },
     "execution_count": 10,
     "metadata": {},
     "output_type": "execute_result"
    }
   ],
   "source": [
    "r = b * np.std(x) / np.std(y)\n",
    "r"
   ]
  },
  {
   "cell_type": "markdown",
   "metadata": {},
   "source": [
    "Высокий отрицательный коэффициент показывает сильную статистическую связь."
   ]
  },
  {
   "cell_type": "markdown",
   "metadata": {
    "id": "yCebK69XVWCC"
   },
   "source": [
    "Найдем коэффициент детерминации $R^2$:"
   ]
  },
  {
   "cell_type": "code",
   "execution_count": 11,
   "metadata": {
    "id": "0ooklfCzVWCD",
    "outputId": "c03bf2cd-17cb-4889-a7b4-658ef2a534e2"
   },
   "outputs": [
    {
     "data": {
      "text/plain": [
       "0.8166666666666665"
      ]
     },
     "execution_count": 11,
     "metadata": {},
     "output_type": "execute_result"
    }
   ],
   "source": [
    "R2 = r**2\n",
    "R2"
   ]
  },
  {
   "cell_type": "code",
   "execution_count": null,
   "metadata": {},
   "outputs": [],
   "source": []
  },
  {
   "cell_type": "code",
   "execution_count": null,
   "metadata": {},
   "outputs": [],
   "source": []
  },
  {
   "cell_type": "code",
   "execution_count": null,
   "metadata": {},
   "outputs": [],
   "source": []
  },
  {
   "cell_type": "markdown",
   "metadata": {
    "id": "UNooD5xJVWCP"
   },
   "source": [
    "Это означает, что 67.5% вариации цены на квартиру ($y$) объясняется вариацией фактора $x$ — площади квартиры."
   ]
  },
  {
   "cell_type": "markdown",
   "metadata": {
    "id": "RgW1rXkEVWCR"
   },
   "source": [
    "С помощью этого уравнения регрессии посчитаем значения, предсказанные моделью значения цен на квартиры:"
   ]
  },
  {
   "cell_type": "code",
   "execution_count": 16,
   "metadata": {
    "id": "1pStjYk9VWCS",
    "outputId": "71e1ea46-2f37-4fc4-e9d8-dd75ece7407b"
   },
   "outputs": [
    {
     "data": {
      "text/plain": [
       "array([51. , 40.5, 30. , 19.5,  9. ])"
      ]
     },
     "execution_count": 16,
     "metadata": {},
     "output_type": "execute_result"
    }
   ],
   "source": [
    "y_pred = a + b * x\n",
    "y_pred"
   ]
  },
  {
   "cell_type": "markdown",
   "metadata": {
    "id": "ymhf8BfBVWCc"
   },
   "source": [
    "Качество модели найдем с помощью средней ошибки аппроксимации $\\overline {A}$:"
   ]
  },
  {
   "cell_type": "code",
   "execution_count": 17,
   "metadata": {
    "id": "bv3vJejlVWCg",
    "outputId": "37345701-3c7a-439c-a8d8-b41b796f3364"
   },
   "outputs": [
    {
     "data": {
      "text/plain": [
       "24.642857142857146"
      ]
     },
     "execution_count": 17,
     "metadata": {},
     "output_type": "execute_result"
    }
   ],
   "source": [
    "A_mean = 100 * np.mean(np.abs((y - y_pred) / y))\n",
    "A_mean"
   ]
  },
  {
   "cell_type": "markdown",
   "metadata": {
    "id": "2lpGd6eKVWCw"
   },
   "source": [
    "Так как $\\overline {A}$ равна 24%, что  превышает 8-10 %, модель плохо описывает эмпирические данные. Для оценки значимости \n",
    "\n",
    "уравнения регрессии воспользуемся F-критерием Фишера. Найдем фактическое значение $F$-критерия ($F_{факт}$):"
   ]
  },
  {
   "cell_type": "code",
   "execution_count": 19,
   "metadata": {
    "id": "2s_12smQVWC0",
    "outputId": "d64e2a92-3d60-43b9-d7a1-ef349f56a542"
   },
   "outputs": [
    {
     "data": {
      "text/plain": [
       "13.363636363636353"
      ]
     },
     "execution_count": 19,
     "metadata": {},
     "output_type": "execute_result"
    }
   ],
   "source": [
    "F_fact = (r**2 * (n - 2)) / (1 - r**2)\n",
    "F_fact"
   ]
  },
  {
   "cell_type": "markdown",
   "metadata": {
    "id": "tRrc_mzoVWC9"
   },
   "source": [
    "При 5 % уровне значимости и степенях свободы $k_1 = 1$ и $k_2 = 5 - 2 = 2$ табличное значение критерия: $F_{кр} = 10.13$.\n",
    "\n",
    "Так как $F_{факт} = 13.36 > F_{кр} = 10.13$, уравнение регрессии статистически значимо."
   ]
  },
  {
   "cell_type": "markdown",
   "metadata": {
    "id": "7AW4TKZLVWDC"
   },
   "source": [
    "Для оценки статистической значимости параметров регрессии воспользуемся $t$-статистикой Стьюдента и также рассчитаем \n",
    "\n",
    "доверительные интервалы каждого из показателей. При $df = n - 2 = 5 - 2 = 3$ и $\\alpha = 0.05$ получим\n",
    "\n",
    "(см. <a href='https://statpsy.ru/t-student/t-test-tablica/'>Таблицу критических значений t-критерия Стьюдента</a>):"
   ]
  },
  {
   "cell_type": "markdown",
   "metadata": {
    "id": "0R9OLU3rVWDE"
   },
   "source": [
    "$$t_{кр} = 3.182$$"
   ]
  },
  {
   "cell_type": "markdown",
   "metadata": {
    "id": "KolP5udaVWDH"
   },
   "source": [
    "Определим стандартную ошибку $S_{ост}$ (переменная **s_residual**) и случайные ошибки $m_a, \\; m_b$:"
   ]
  },
  {
   "cell_type": "code",
   "execution_count": 23,
   "metadata": {
    "id": "y7ZtBGJXVWDI",
    "outputId": "d28f0a73-ddc5-4152-e9fd-6686aec76bf0"
   },
   "outputs": [
    {
     "name": "stdout",
     "output_type": "stream",
     "text": [
      "s_residual = 9.082951062292475\n",
      "m_a = 12.186057606953941\n",
      "m_b = 0.05744562646538028\n"
     ]
    }
   ],
   "source": [
    "s_residual = np.sqrt(np.sum((y - y_pred)**2) / (n - 2))\n",
    "m_a = s_residual * np.sqrt(np.sum(x ** 2)) / (n * np.std(x))\n",
    "m_b = s_residual / (np.std(x) * np.sqrt(n))\n",
    "\n",
    "print('s_residual = {}\\nm_a = {}\\nm_b = {}'.format(s_residual, m_a, m_b))"
   ]
  },
  {
   "cell_type": "markdown",
   "metadata": {
    "id": "mrYy3Z2JVWDQ"
   },
   "source": [
    "Вычислим наблюдаемые значения критерия $t_a$ и $t_b$:"
   ]
  },
  {
   "cell_type": "code",
   "execution_count": 24,
   "metadata": {
    "id": "7F0Yci-HVWDS",
    "outputId": "4189e74c-8d82-4d7d-8d8f-d08ae828b8d3"
   },
   "outputs": [
    {
     "data": {
      "text/plain": [
       "5.908391567007971"
      ]
     },
     "execution_count": 24,
     "metadata": {},
     "output_type": "execute_result"
    }
   ],
   "source": [
    "t_a = a / m_a\n",
    "t_a"
   ]
  },
  {
   "cell_type": "code",
   "execution_count": 25,
   "metadata": {
    "id": "UfXZXkmpVWDd",
    "outputId": "45e8fba5-84b1-4e1c-c21a-78968c272c9b"
   },
   "outputs": [
    {
     "data": {
      "text/plain": [
       "-3.6556307750696546"
      ]
     },
     "execution_count": 25,
     "metadata": {},
     "output_type": "execute_result"
    }
   ],
   "source": [
    "t_b = b / m_b\n",
    "t_b"
   ]
  },
  {
   "cell_type": "markdown",
   "metadata": {
    "id": "qNAXIaijVWDk"
   },
   "source": [
    "Фактические значения t-статистики больше табличного значения:"
   ]
  },
  {
   "cell_type": "markdown",
   "metadata": {
    "id": "wGlkWCg2VWDl"
   },
   "source": [
    "$$t_a = 5.91 > t_{кр} = 3.182, \\; t_b = |-3.65| > t_{кр} = 3.182,$$"
   ]
  },
  {
   "cell_type": "markdown",
   "metadata": {
    "id": "8kwL6vR_VWDp"
   },
   "source": [
    "поэтому параметры $a$ и $b$ не случайно отличаются от нуля, то есть они статистически значимы."
   ]
  },
  {
   "cell_type": "markdown",
   "metadata": {
    "id": "uc7Zz2h1VWDr"
   },
   "source": [
    "Рассчитаем доверительные интервалы для параметров регрессии $a$ и $b$. Для этого определим предельную ошибку для каждого показателя ($\\Delta_a$ и $\\Delta_b$),\n",
    "\n",
    "используя значение $t_{кр}$, равное 3.182 (переменная **t_cr**):"
   ]
  },
  {
   "cell_type": "code",
   "execution_count": 38,
   "metadata": {
    "id": "pW5Qj3ryVWDt"
   },
   "outputs": [],
   "source": [
    "t_cr = 3.182"
   ]
  },
  {
   "cell_type": "code",
   "execution_count": 39,
   "metadata": {
    "id": "wfIm3E5xVWDy",
    "outputId": "d4a9f8de-fbbe-4763-951e-c62495b79bc4"
   },
   "outputs": [
    {
     "data": {
      "text/plain": [
       "38.77603530532744"
      ]
     },
     "execution_count": 39,
     "metadata": {},
     "output_type": "execute_result"
    }
   ],
   "source": [
    "delta_a = t_cr * m_a\n",
    "delta_a"
   ]
  },
  {
   "cell_type": "code",
   "execution_count": 40,
   "metadata": {
    "id": "gF3fKd8OVWD5",
    "outputId": "7f6bfc7d-2bbe-4043-f6ff-84eef9cf8a77"
   },
   "outputs": [
    {
     "data": {
      "text/plain": [
       "0.18279198341284006"
      ]
     },
     "execution_count": 40,
     "metadata": {},
     "output_type": "execute_result"
    }
   ],
   "source": [
    "delta_b = t_cr * m_b\n",
    "delta_b"
   ]
  },
  {
   "cell_type": "markdown",
   "metadata": {
    "id": "sHUTKIhTVWD-"
   },
   "source": [
    "Найдем границы доверительных интервалов $\\gamma_{a_{min}}, \\gamma_{a_{max}}, \\gamma_{b_{min}}, \\gamma_{b_{max}}$:"
   ]
  },
  {
   "cell_type": "code",
   "execution_count": 41,
   "metadata": {
    "id": "mv8YJBn6VWEB",
    "outputId": "04bd75a0-b0ee-4a86-e29a-75a94bebbc38"
   },
   "outputs": [
    {
     "data": {
      "text/plain": [
       "33.22396469467256"
      ]
     },
     "execution_count": 41,
     "metadata": {},
     "output_type": "execute_result"
    }
   ],
   "source": [
    "gamma_a_min = a - delta_a\n",
    "gamma_a_min"
   ]
  },
  {
   "cell_type": "code",
   "execution_count": 42,
   "metadata": {
    "id": "K7kHFohfVWER",
    "outputId": "b1fe9679-3ccb-4c06-dd2b-888e3cc8a4ea"
   },
   "outputs": [
    {
     "data": {
      "text/plain": [
       "110.77603530532744"
      ]
     },
     "execution_count": 42,
     "metadata": {},
     "output_type": "execute_result"
    }
   ],
   "source": [
    "gamma_a_max = a + delta_a\n",
    "gamma_a_max"
   ]
  },
  {
   "cell_type": "code",
   "execution_count": 43,
   "metadata": {
    "id": "adNd5XPZVWEZ",
    "outputId": "96112003-d302-454f-b790-42f493d092ca"
   },
   "outputs": [
    {
     "data": {
      "text/plain": [
       "-0.39279198341284005"
      ]
     },
     "execution_count": 43,
     "metadata": {},
     "output_type": "execute_result"
    }
   ],
   "source": [
    "gamma_b_min = b - delta_b\n",
    "gamma_b_min"
   ]
  },
  {
   "cell_type": "code",
   "execution_count": 44,
   "metadata": {
    "id": "QYwAhhdHVWEf",
    "outputId": "0d80891f-a7c9-4e5a-fb74-f7ac1454d583"
   },
   "outputs": [
    {
     "data": {
      "text/plain": [
       "-0.027208016587159933"
      ]
     },
     "execution_count": 44,
     "metadata": {},
     "output_type": "execute_result"
    }
   ],
   "source": [
    "gamma_b_max = b + delta_b\n",
    "gamma_b_max"
   ]
  },
  {
   "cell_type": "markdown",
   "metadata": {
    "id": "KzUe1mDhVWEk"
   },
   "source": [
    "Приходим к выводу о том, что с вероятностью $p = 1 - \\alpha = 0.95$ параметры $a$ и $b$, находясь в указанных границах, \n",
    "\n",
    "являются статистически значимыми и отличны от нуля. Поместим исходные и предсказанные данные в датафрейм **df**:"
   ]
  },
  {
   "cell_type": "code",
   "execution_count": 34,
   "metadata": {
    "id": "Addxji38VWEm",
    "outputId": "b837fbcb-18b7-48c2-ada8-cda8ff7db702"
   },
   "outputs": [
    {
     "data": {
      "text/html": [
       "<div>\n",
       "<style scoped>\n",
       "    .dataframe tbody tr th:only-of-type {\n",
       "        vertical-align: middle;\n",
       "    }\n",
       "\n",
       "    .dataframe tbody tr th {\n",
       "        vertical-align: top;\n",
       "    }\n",
       "\n",
       "    .dataframe thead th {\n",
       "        text-align: right;\n",
       "    }\n",
       "</style>\n",
       "<table border=\"1\" class=\"dataframe\">\n",
       "  <thead>\n",
       "    <tr style=\"text-align: right;\">\n",
       "      <th></th>\n",
       "      <th>x</th>\n",
       "      <th>y</th>\n",
       "      <th>y_pred</th>\n",
       "    </tr>\n",
       "  </thead>\n",
       "  <tbody>\n",
       "    <tr>\n",
       "      <td>0</td>\n",
       "      <td>100.0</td>\n",
       "      <td>60.0</td>\n",
       "      <td>51.0</td>\n",
       "    </tr>\n",
       "    <tr>\n",
       "      <td>1</td>\n",
       "      <td>150.0</td>\n",
       "      <td>35.0</td>\n",
       "      <td>40.5</td>\n",
       "    </tr>\n",
       "    <tr>\n",
       "      <td>2</td>\n",
       "      <td>200.0</td>\n",
       "      <td>20.0</td>\n",
       "      <td>30.0</td>\n",
       "    </tr>\n",
       "    <tr>\n",
       "      <td>3</td>\n",
       "      <td>250.0</td>\n",
       "      <td>20.0</td>\n",
       "      <td>19.5</td>\n",
       "    </tr>\n",
       "    <tr>\n",
       "      <td>4</td>\n",
       "      <td>300.0</td>\n",
       "      <td>15.0</td>\n",
       "      <td>9.0</td>\n",
       "    </tr>\n",
       "  </tbody>\n",
       "</table>\n",
       "</div>"
      ],
      "text/plain": [
       "       x     y  y_pred\n",
       "0  100.0  60.0    51.0\n",
       "1  150.0  35.0    40.5\n",
       "2  200.0  20.0    30.0\n",
       "3  250.0  20.0    19.5\n",
       "4  300.0  15.0     9.0"
      ]
     },
     "execution_count": 34,
     "metadata": {},
     "output_type": "execute_result"
    }
   ],
   "source": [
    "import pandas as pd\n",
    "\n",
    "df = pd.DataFrame({'x': x, 'y': y, 'y_pred': y_pred}, columns=['x', 'y', 'y_pred'])\n",
    "df"
   ]
  },
  {
   "cell_type": "markdown",
   "metadata": {
    "id": "pF4NpdpYVWEt"
   },
   "source": [
    "Отсортируем значения по полю **x**:"
   ]
  },
  {
   "cell_type": "code",
   "execution_count": 35,
   "metadata": {
    "id": "lX0_69KpVWEv",
    "outputId": "234284c5-6021-4c6e-b4e1-aa4b63d23915"
   },
   "outputs": [
    {
     "data": {
      "text/html": [
       "<div>\n",
       "<style scoped>\n",
       "    .dataframe tbody tr th:only-of-type {\n",
       "        vertical-align: middle;\n",
       "    }\n",
       "\n",
       "    .dataframe tbody tr th {\n",
       "        vertical-align: top;\n",
       "    }\n",
       "\n",
       "    .dataframe thead th {\n",
       "        text-align: right;\n",
       "    }\n",
       "</style>\n",
       "<table border=\"1\" class=\"dataframe\">\n",
       "  <thead>\n",
       "    <tr style=\"text-align: right;\">\n",
       "      <th></th>\n",
       "      <th>x</th>\n",
       "      <th>y</th>\n",
       "      <th>y_pred</th>\n",
       "    </tr>\n",
       "  </thead>\n",
       "  <tbody>\n",
       "    <tr>\n",
       "      <td>0</td>\n",
       "      <td>100.0</td>\n",
       "      <td>60.0</td>\n",
       "      <td>51.0</td>\n",
       "    </tr>\n",
       "    <tr>\n",
       "      <td>1</td>\n",
       "      <td>150.0</td>\n",
       "      <td>35.0</td>\n",
       "      <td>40.5</td>\n",
       "    </tr>\n",
       "    <tr>\n",
       "      <td>2</td>\n",
       "      <td>200.0</td>\n",
       "      <td>20.0</td>\n",
       "      <td>30.0</td>\n",
       "    </tr>\n",
       "    <tr>\n",
       "      <td>3</td>\n",
       "      <td>250.0</td>\n",
       "      <td>20.0</td>\n",
       "      <td>19.5</td>\n",
       "    </tr>\n",
       "    <tr>\n",
       "      <td>4</td>\n",
       "      <td>300.0</td>\n",
       "      <td>15.0</td>\n",
       "      <td>9.0</td>\n",
       "    </tr>\n",
       "  </tbody>\n",
       "</table>\n",
       "</div>"
      ],
      "text/plain": [
       "       x     y  y_pred\n",
       "0  100.0  60.0    51.0\n",
       "1  150.0  35.0    40.5\n",
       "2  200.0  20.0    30.0\n",
       "3  250.0  20.0    19.5\n",
       "4  300.0  15.0     9.0"
      ]
     },
     "execution_count": 35,
     "metadata": {},
     "output_type": "execute_result"
    }
   ],
   "source": [
    "df = df.sort_values('x')\n",
    "df"
   ]
  },
  {
   "cell_type": "markdown",
   "metadata": {
    "id": "FZfKDj9OVWE0"
   },
   "source": [
    "Построим на одном графике исходные данные и теоретическую прямую, построенную по уравнению регрессии:"
   ]
  },
  {
   "cell_type": "code",
   "execution_count": 45,
   "metadata": {
    "id": "V82ew1-jVWE3",
    "outputId": "502f7973-15c8-4689-8c23-a18a67df34ea"
   },
   "outputs": [
    {
     "data": {
      "image/png": "[encoded data removed]",
      "text/plain": [
       "<Figure size 432x288 with 1 Axes>"
      ]
     },
     "metadata": {
      "needs_background": "light"
     },
     "output_type": "display_data"
    }
   ],
   "source": [
    "import matplotlib.pyplot as plt\n",
    "\n",
    "plt.scatter(df['x'], df['y'])\n",
    "plt.plot(df['x'], df['y_pred'])\n",
    "plt.xlabel('Зарплата')\n",
    "plt.ylabel('Количество увалевшихся')\n",
    "plt.show()"
   ]
  },
  {
   "cell_type": "code",
   "execution_count": null,
   "metadata": {
    "id": "ODhJc9IqVWE-"
   },
   "outputs": [],
   "source": []
  }
 ],
 "metadata": {
  "colab": {
   "collapsed_sections": [],
   "name": "Матстат - Урок 7.ipynb",
   "provenance": []
  },
  "kernelspec": {
   "display_name": "Python 3",
   "language": "python",
   "name": "python3"
  },
  "language_info": {
   "codemirror_mode": {
    "name": "ipython",
    "version": 3
   },
   "file_extension": ".py",
   "mimetype": "text/x-python",
   "name": "python",
   "nbconvert_exporter": "python",
   "pygments_lexer": "ipython3",
   "version": "3.7.4"
  }
 },
 "nbformat": 4,
 "nbformat_minor": 1
}
