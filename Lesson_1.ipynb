{
 "cells": [
  {
   "cell_type": "markdown",
   "metadata": {},
   "source": [
    "__1. Брошены две игральные кости. Найти вероятность следующих событий:__\n",
    "\n",
    "а) Сумма выпавших очков равна семи;\n",
    "\n",
    "б) Сумма выпавших очков равна восьми, а разность - четырем;\n",
    "\n",
    "в) Сумма выпавших очков равна восьми, если известно, что их разность равна четырем;\n",
    "\n",
    "г) Сумма выпавших очков равна пяти, а произведение - четырем.\n",
    "\n",
    "\n",
    "а)$p\\left( A \\right) = \\frac{6}{{36}} = \\frac{1}{6}$\n",
    "\n",
    "б)$p\\left( A \\right) = \\frac{1}{{36}} + \\frac{1}{{36}} = \\frac{1}{{18}}$\n",
    "\n",
    "в)$p\\left( A \\right) = \\frac{4}{{36}} \\cdot \\frac{2}{4} = \\frac{1}{{18}}$\n",
    "\n",
    "г)$p\\left( A \\right) = \\frac{4}{{36}} = \\frac{1}{{9}}$"
   ]
  },
  {
   "cell_type": "markdown",
   "metadata": {},
   "source": [
    "__2. Монета брошена два раза. Найти вероятность того, что хотя бы один раз появляется \"орел\".__\n",
    "\n",
    "$p\\left( A \\right) = \\frac{3}{4}$"
   ]
  },
  {
   "cell_type": "markdown",
   "metadata": {},
   "source": [
    "__3. В группе 12 студентов, среди которых 8 отличников. По списку на удачу отобраны 9 студентов. Найти вероятность того, что среди отобранных студентов 5 отличников.__\n",
    "\n",
    "$p\\left( A \\right) = \\frac{{C_8^5 \\cdot C_4^4}}{{C_{12}^9}} = \\frac{{14}}{{55}}$"
   ]
  },
  {
   "cell_type": "markdown",
   "metadata": {},
   "source": [
    "__4. В первой урне содержится 10 шаров, из них 8 белых; во второй урне 20 шаров, из них 4 белых. Из каждой урны наудачу извлекли по одному шару, а затем из этих двух шаров наудачу взят один шар. Найти вероятность того, что взят белый шар.__\n",
    "\n",
    "Событием  𝐴  будем считать , что из двух шаров наудачу взят один белый шар, а событием  𝐵  — что среди извлеченных 2х шаров из корзин, хотя  бы один белый. \n",
    "\n",
    "тогда\n",
    "\n",
    "$P(A) = P(B_1) \\cdot P(A\\:|\\:B_1) + P(B_2) \\cdot P(A\\:|\\:B_2) \\; + ... + \\; P(B_n) \\cdot P(A\\:|\\:B_n)$\n",
    "\n",
    "${B_1}$ - из первой и второй урн зврелки только белые шары\n",
    "\n",
    "${B_2}$ - из первой урны извлечен не белый шар из второй урны извлечен белый шар\n",
    "\n",
    "${B_3}$ - из второй урны извлечен не белый шар из первой урны извлечен белый шар\n",
    "\n",
    "\n",
    "$P(A) = P({B_1}) \\cdot P(A\\:|\\:{B_1}) + P({B_2}) \\cdot P(A\\:|\\:{B_2}) + P({B_3}) \\cdot P(A\\:|\\:{B_3})\\;$\n",
    "\n",
    "$P(A) = \\frac{{C_8^1}}{{C_{10}^1}} \\cdot \\frac{{C_4^1}}{{C_{20}^1}} \\cdot 1 + \\frac{{C_2^1}}{{C_{10}^1}} \\cdot \\frac{{C_4^1}}{{C_{20}^1}} \\cdot \\frac{1}{2} + \\frac{{C_8^1}}{{C_{10}^1}} \\cdot \\frac{{C_{16}^1}}{{C_{20}^1}} \\cdot \\frac{1}{2} = \\frac{1}{2}$\n",
    "\n"
   ]
  },
  {
   "cell_type": "markdown",
   "metadata": {},
   "source": [
    "__5. Три стрелка произвели залп, причём две пули поразили мишень. Найти вероятность того, что третий стрелок поразил мишень, если вероятности попадания в мишень первым, вторым и третьим стрелками соответственно равны 0.6, 0.5 и 0.4.__\n",
    "\n",
    "${A_1}$ - первый стрелок порозил мишень\n",
    "\n",
    "${A_2}$ - второй стрелок порозил мишень\n",
    "\n",
    "${A_3}$ - третий стрелок порозил мишень\n",
    "\n",
    "Тогда вероятность ${P(A)}$ события ${A}$, состоящая в том, что третий стрелок поразил мишень, равна:\n",
    "\n",
    "$P(A) = P({{\\bar A}_1}{A_2}{A_3}) + P({A_1}{{\\bar A}_2}{A_3}) = 0.4 \\cdot 0.5 \\cdot 0.4 + 0.6 \\cdot 0.5 \\cdot 0.4 = 0.2$"
   ]
  },
  {
   "cell_type": "code",
   "execution_count": 6,
   "metadata": {},
   "outputs": [],
   "source": [
    "from math import factorial\n",
    "from fractions import Fraction\n",
    "def combinations(n, k):\n",
    "    return int(factorial(n) / (factorial(k) * factorial(n - k)))\n"
   ]
  },
  {
   "cell_type": "code",
   "execution_count": 28,
   "metadata": {},
   "outputs": [
    {
     "data": {
      "text/plain": [
       "Fraction(1, 2)"
      ]
     },
     "execution_count": 28,
     "metadata": {},
     "output_type": "execute_result"
    }
   ],
   "source": [
    "a = (Fraction(combinations(8, 1),combinations(10, 1))*\n",
    "     Fraction(combinations(4, 1),combinations(20, 1))+\n",
    "     Fraction(combinations(2, 1),combinations(10, 1))*\n",
    "     Fraction(combinations(4, 1),combinations(20, 1))/2+\n",
    "     Fraction(combinations(8, 1),combinations(10, 1))*\n",
    "     Fraction(combinations(16, 1),combinations(20, 1))/2\n",
    "    )\n",
    "\n",
    "a"
   ]
  },
  {
   "cell_type": "code",
   "execution_count": 30,
   "metadata": {},
   "outputs": [
    {
     "data": {
      "text/plain": [
       "20"
      ]
     },
     "execution_count": 30,
     "metadata": {},
     "output_type": "execute_result"
    }
   ],
   "source": [
    "combinations(20, 1)"
   ]
  },
  {
   "cell_type": "code",
   "execution_count": 31,
   "metadata": {},
   "outputs": [
    {
     "data": {
      "text/plain": [
       "0.2"
      ]
     },
     "execution_count": 31,
     "metadata": {},
     "output_type": "execute_result"
    }
   ],
   "source": [
    "0.4 * 0.5 * 0.4 + 0.6 * 0.5 * 0.4"
   ]
  },
  {
   "cell_type": "code",
   "execution_count": null,
   "metadata": {},
   "outputs": [],
   "source": []
  }
 ],
 "metadata": {
  "colab": {
   "name": "Матстат - Урок 1.ipynb",
   "provenance": []
  },
  "kernelspec": {
   "display_name": "Python 3",
   "language": "python",
   "name": "python3"
  },
  "language_info": {
   "codemirror_mode": {
    "name": "ipython",
    "version": 3
   },
   "file_extension": ".py",
   "mimetype": "text/x-python",
   "name": "python",
   "nbconvert_exporter": "python",
   "pygments_lexer": "ipython3",
   "version": "3.7.4"
  }
 },
 "nbformat": 4,
 "nbformat_minor": 1
}
