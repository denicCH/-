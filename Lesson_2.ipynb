{
 "cells": [
  {
   "cell_type": "markdown",
   "metadata": {},
   "source": [
    "__1. Две игральные кости одновременно бросают два раза. Написать биноминальный закон распределения дискретной случайной величины X - числа выпадений чётного числа очков на двух игральных костях.__\n",
    "\n",
    "При одновременном бросании 2х игральных костей 2раза, четное число очков может появиться 2раза, либо 1раз, либо совсем не появиться. Таким образом возможные значения $X$ таковы: ${x_1} = 2,\\,{x_1} = 1,\\,{x_1} = 0$. Вероятность появления события ${A}$(выпало четное число очков) равна $p\\left( A \\right) = \\frac{{C_3^1 \\cdot C_3^1}}{{C_{12}^2}} = 2 \\cdot \\frac{{C_3^1}}{{C_{12}^2}} = \\frac{1}{{11}}$\n",
    "\n",
    "Найдем вероятности по формуле Бернулли: \n",
    "\n",
    "$\\begin{array}{l}\n",
    "p(k = 0) = C_n^k{p^k}{q^{n - k}} = C_2^0 \\cdot {\\left( {\\frac{{10}}{{11}}} \\right)^2} = {\\left( {\\frac{{10}}{{11}}} \\right)^2} = \\frac{{100}}{{121}} = 0.826\\\\\n",
    "p(k = 1) = C_n^k{p^k}{q^{n - k}} = C_2^1{p^1}{q^1} = 2 \\cdot \\frac{1}{{11}} \\cdot \\frac{{10}}{{11}} = \\frac{{20}}{{121}} = 0.165\\\\\n",
    "p(k = 2) = C_n^k{p^k}{q^{n - k}} = C_2^2{p^2}{q^0} = 1 \\cdot \\left( {\\frac{1}{{11}}} \\right)^2 \\cdot 1 = \\frac{1}{{121}} = 0.008\n",
    "\\end{array}$\n",
    "\n",
    "<table border=\"3\">\n",
    "<tr><th>X</th><td>0</td><td>1</td><td>2</td></tr>\n",
    "<tr><th>p</th><td>0.826</td><td>0.165</td><td>0.008</td></tr>\n",
    "</table>"
   ]
  },
  {
   "cell_type": "markdown",
   "metadata": {},
   "source": [
    "__2. Станок-автомат штампует детали. Вероятность того, что изготовленная деталь окажется бракованной, равна 0.01. Найти вероятность того, что среди 200 деталей окажется ровно 4 бракованных.__\n",
    "\n",
    "Применим формулу Пуассона, зная, что $m = 4$ и $λ = np = 200 \\cdot 0.01 = 2$:\n",
    "\n",
    "$${P_{200}}\\left( 4 \\right) \\approx \\frac{{{\\lambda ^m}}}{{m!}}{e^{ - \\lambda }} \\approx \\frac{{{2^4}}}{{4!}}{e^{ - 2}} \\approx 0.0902$$"
   ]
  },
  {
   "cell_type": "markdown",
   "metadata": {},
   "source": [
    "__3. Магазин получил 1000 бутылок минеральной воды. Вероятность того, что при перевозке бутылка окажется разбитой равна 0.003. Найти вероятности того, что магазин получит:__ \n",
    "\n",
    "__а) ровно две разбитые бутылки;__ \n",
    "\n",
    "__б) менее двух разбитых бутылок;__ \n",
    "\n",
    "__в) более двух разбитых бутылок;__ \n",
    "\n",
    "__г) хоты бы одну разбитую бутылку.__\n",
    "\n",
    "Применим формулу Пуассона $\\frac{{{\\lambda ^m}}}{{m!}}{e^{ - \\lambda }}$, где $λ = np = 1000 \\cdot 0.003 = 3$:\n",
    "\n",
    "\n",
    "a) Вероятность того, что при перевозке бутылок будет разбито ровно две бутылки, равна:\n",
    "\n",
    "\n",
    "$${P_{1000}}\\left( 2 \\right) \\approx \\frac{{{\\lambda ^m}}}{{m!}}{e^{ - \\lambda }} \\approx \\frac{{{3^2}}}{{2!}}{e^{ - 3}} \\approx 0.224$$\n",
    "\n",
    "б)Вероятность того, что при перевозке бутылок будет разбито менее двух бутылок, равна:\n",
    "\n",
    "$${P_{1000}}\\left( {k < 2} \\right) = {P_{1000}}\\left( 0 \\right) + {P_{1000}}\\left( 1 \\right) = \\frac{{{3^0}}}{{0!}}{e^{ - 3}} + \\frac{{{3^1}}}{{1!}}{e^{ - 3}} \\approx {\\rm{0}}{\\rm{.0497 + }}0.1493 \\approx 0.1991$$\n",
    "\n",
    "\n",
    "в) Вероятность того, что при перевозке бутылок  будет разбито более двух, равна:\n",
    "\n",
    "$${P_{1000}}\\left( {k > 2} \\right) = 1 - {P_{1000}}\\left( {k < 2} \\right) = 1 - {P_{1000}}\\left( 0 \\right) - {P_{1000}}\\left( 1 \\right) \\approx {\\rm{1}} - {\\rm{0}}{\\rm{.0497}} - {\\rm{0}}{\\rm{.1493}}\\, \\approx 0.8008$$\n",
    "\n",
    "$$\\begin{array}{l}\n",
    "{P_{1000}}\\left( 0 \\right) \\approx \\frac{{{\\lambda ^m}}}{{m!}}{e^{ - \\lambda }} \\approx \\frac{{{3^0}}}{{0!}}{e^{ - 3}} \\approx 0.0497\\\\\n",
    "{P_{1000}}\\left( 1 \\right) \\approx \\frac{{{\\lambda ^m}}}{{m!}}{e^{ - \\lambda }} \\approx \\frac{{{3^1}}}{{1!}}{e^{ - 3}} \\approx 0.1493\n",
    "\\end{array}$$\n",
    "\n",
    "\n",
    "г) Вероятность того, что при перевозке бутылок будет разбита хоты бы одна, равна:\n",
    "\n",
    "$${P_{1000}}\\left( {k < 1} \\right) = 1 - {P_{1000}}\\left( 0 \\right) = 1 - \\frac{{{3^0}}}{{0!}}{e^{ - 3}} = {\\rm{1}} - {\\rm{0}}{\\rm{.0497}}\\,{\\rm{ = }}\\,0.9502$$\n",
    "\n"
   ]
  },
  {
   "cell_type": "markdown",
   "metadata": {},
   "source": [
    "__4. В магазин за одну минуту в среднем заходят 5 человек. Найдите вероятность того, что за 2 минуты в магазин зайдет не более 1 человека.__\n",
    "\n",
    "$P_t(k) = \\frac{(\\lambda t)^k}{k!} e^{-\\lambda t} = \\frac{(5 t)^k}{k!} e^{-5 t}$  - вероятность того, что за время t в магазин зайдет ровно k человек. Здесь λ = 5 - интенсивность потока посещения магазина (5 человек в минуту). Вероятность того, что за 2 минуты в магазин зайдет не более 1 человека, равна:\n",
    "\n",
    "\n",
    "$${P_2}(k \\le 1) = 1 - {P_2}(0) - {P_2}(1) = 1 - \\frac{{{{(10)}^0}}}{{0!}}{e^{ - 10}} - \\frac{{{{(10)}^1}}}{{1!}}{e^{ - 10}} \\approx 1 - 0.000045 - {\\rm{0}}{\\rm{.00045}} \\approx 0.9995$$\n"
   ]
  },
  {
   "cell_type": "markdown",
   "metadata": {},
   "source": [
    "__5. Достоверно известно, что в тексте учебника по экономике содержатся опечатки: в среднем, одна на десять страниц. Пусть Х – число опечаток на одной странице. Определить закон распределения для Х. Найти вероятность, что на странице есть хотя бы одна опечатка.__\n",
    "\n",
    "Применим формулу Пуассона $\\frac{{{\\lambda ^m}}}{{m!}}{e^{ - \\lambda }}$, где $\\lambda  = 1/10$, вероятность, что на странице есть хотя бы одна опечатка, равна:\n",
    "\n",
    "$$P\\left( {m < 1} \\right) = 1 - P\\left( 0 \\right) = 1 - \\frac{{{{\\left( {\\frac{1}{{10}}} \\right)}^0}}}{{0!}}{e^{ - \\left( {\\frac{1}{{10}}} \\right)}} \\approx 1 - 0.904 \\approx 0.095$$"
   ]
  },
  {
   "cell_type": "code",
   "execution_count": 45,
   "metadata": {},
   "outputs": [
    {
     "data": {
      "image/png": "[encoded data removed]",
      "text/plain": [
       "<Figure size 432x288 with 1 Axes>"
      ]
     },
     "metadata": {
      "needs_background": "light"
     },
     "output_type": "display_data"
    }
   ],
   "source": [
    "import numpy as np\n",
    "import pandas as pd\n",
    "from matplotlib import pyplot as plt\n",
    "\n",
    "n = 1\n",
    "m = 0\n",
    "p = 1/10\n",
    "lambda_ = n * p\n",
    "\n",
    "(lambda_**m / np.math.factorial(m)) * np.exp(-lambda_)\n",
    "\n",
    "\n",
    "m = range(0,10)\n",
    "\n",
    "p = [(lambda_**k / np.math.factorial(k)) * np.exp(-lambda_) for k in m]\n",
    "\n",
    "p_info = pd.Series(p, index=m)\n",
    "\n",
    "p_info.plot(kind=\"bar\")\n",
    "\n",
    "plt.show()"
   ]
  },
  {
   "cell_type": "code",
   "execution_count": 44,
   "metadata": {},
   "outputs": [
    {
     "data": {
      "text/plain": [
       "0    9.048374e-01\n",
       "1    9.048374e-02\n",
       "2    4.524187e-03\n",
       "3    1.508062e-04\n",
       "4    3.770156e-06\n",
       "5    7.540312e-08\n",
       "6    1.256719e-09\n",
       "7    1.795312e-11\n",
       "8    2.244140e-13\n",
       "9    2.493489e-15\n",
       "dtype: float64"
      ]
     },
     "execution_count": 44,
     "metadata": {},
     "output_type": "execute_result"
    }
   ],
   "source": [
    "p_info = pd.Series(p, index=m)\n",
    "p_info"
   ]
  },
  {
   "cell_type": "code",
   "execution_count": 30,
   "metadata": {},
   "outputs": [
    {
     "data": {
      "text/plain": [
       "0.00045399929762484856"
      ]
     },
     "execution_count": 30,
     "metadata": {},
     "output_type": "execute_result"
    }
   ],
   "source": [
    "t = 2\n",
    "k = 1\n",
    "lambda_ = 5\n",
    "((lambda_*t)**k / np.math.factorial(k)) * np.exp(-lambda_*t)"
   ]
  },
  {
   "cell_type": "code",
   "execution_count": null,
   "metadata": {},
   "outputs": [],
   "source": []
  }
 ],
 "metadata": {
  "kernelspec": {
   "display_name": "Python 3",
   "language": "python",
   "name": "python3"
  },
  "language_info": {
   "codemirror_mode": {
    "name": "ipython",
    "version": 3
   },
   "file_extension": ".py",
   "mimetype": "text/x-python",
   "name": "python",
   "nbconvert_exporter": "python",
   "pygments_lexer": "ipython3",
   "version": "3.7.4"
  }
 },
 "nbformat": 4,
 "nbformat_minor": 2
}
