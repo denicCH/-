{
 "cells": [
  {
   "cell_type": "markdown",
   "metadata": {},
   "source": [
    "1. При уровне значимости α=0,05 методом дисперсионного анализа проверить нулевую гипотезу о влиянии фактора на качество объекта на основании пяти измерений для трех уровней фактора Ф1 – Ф3. Номер измерения Ф1 Ф2 Ф3 1 18 24 36 2 28 36 12 3 12 28 22 4 14 40 45 5 32 16 40\n"
   ]
  },
  {
   "cell_type": "markdown",
   "metadata": {},
   "source": [
    "<table style=\"width:400px\">\n",
    "      <tr>\n",
    "         <th style=\"text-align:center\">Измерения</th>\n",
    "         <th>Ф1</th>\n",
    "         <th>Ф1</th>\n",
    "         <th>Ф3</th>          \n",
    "      </tr>\n",
    "    <tr>\n",
    "      <td style=\"text-align:center\">1</td>\n",
    "      <td>18</td>\n",
    "      <td>24</td>\n",
    "      <td>36</td>\n",
    "   </tr>\n",
    "    <tr>\n",
    "      <td style=\"text-align:center\">2</td>\n",
    "      <td>28</td>\n",
    "      <td>36</td>\n",
    "      <td>12</td>\n",
    "   </tr>\n",
    "    <tr>\n",
    "      <td style=\"text-align:center\">3</td>\n",
    "      <td>12</td>\n",
    "      <td>28</td>\n",
    "      <td>22</td>\n",
    "   </tr>\n",
    "    <tr>\n",
    "      <td style=\"text-align:center\">4</td>\n",
    "      <td>14</td>\n",
    "      <td>40</td>\n",
    "      <td>45</td>\n",
    "   </tr>\n",
    "    <tr>\n",
    "      <td style=\"text-align:center\">5</td>\n",
    "      <td>32</td>\n",
    "      <td>16</td>\n",
    "      <td>40</td>\n",
    "   </tr>    \n",
    "</table>"
   ]
  },
  {
   "cell_type": "code",
   "execution_count": 3,
   "metadata": {},
   "outputs": [],
   "source": [
    "import numpy as np\n",
    "q = 5\n",
    "p = 3"
   ]
  },
  {
   "cell_type": "code",
   "execution_count": 4,
   "metadata": {},
   "outputs": [],
   "source": [
    "y1 = np.array([18, 28, 12, 14, 32], dtype=np.float64)\n",
    "y2 = np.array([24, 36, 28, 40, 16], dtype=np.float64)\n",
    "y3 = np.array([36, 12, 22, 45, 40], dtype=np.float64)\n"
   ]
  },
  {
   "cell_type": "markdown",
   "metadata": {},
   "source": [
    "Определим ${T_j} = \\sum {{y_{ij}}} $"
   ]
  },
  {
   "cell_type": "code",
   "execution_count": 5,
   "metadata": {},
   "outputs": [
    {
     "data": {
      "text/plain": [
       "array([104., 144., 155.])"
      ]
     },
     "execution_count": 5,
     "metadata": {},
     "output_type": "execute_result"
    }
   ],
   "source": [
    "T_j = np.array([sum(y1), sum(y2), sum(y3)])\n",
    "T_j"
   ]
  },
  {
   "cell_type": "markdown",
   "metadata": {},
   "source": [
    "Определим ${S_j} = \\sum {y_{ij}^2}$"
   ]
  },
  {
   "cell_type": "code",
   "execution_count": 6,
   "metadata": {},
   "outputs": [
    {
     "data": {
      "text/plain": [
       "array([2472., 4512., 5549.])"
      ]
     },
     "execution_count": 6,
     "metadata": {},
     "output_type": "execute_result"
    }
   ],
   "source": [
    "S_j = np.array([sum(y1**2), sum(y2**2), sum(y3**2)])\n",
    "S_j"
   ]
  },
  {
   "cell_type": "markdown",
   "metadata": {},
   "source": [
    "Определим $T_j^2$"
   ]
  },
  {
   "cell_type": "code",
   "execution_count": 7,
   "metadata": {},
   "outputs": [
    {
     "data": {
      "text/plain": [
       "array([10816., 20736., 24025.])"
      ]
     },
     "execution_count": 7,
     "metadata": {},
     "output_type": "execute_result"
    }
   ],
   "source": [
    "T2_j = T_j**2\n",
    "T2_j"
   ]
  },
  {
   "attachments": {
    "image.png": {
     "image/png": "[encoded data removed]"
    }
   },
   "cell_type": "markdown",
   "metadata": {},
   "source": [
    "Найдем общую и факторную суммы квадратов отклонений, учитывая что число уровней фактора p=3, число испытаний на каждом уровне q = 5\n",
    "\n",
    "![image.png](attachment:image.png)"
   ]
  },
  {
   "cell_type": "code",
   "execution_count": 8,
   "metadata": {},
   "outputs": [
    {
     "data": {
      "text/plain": [
       "1705.7333333333336"
      ]
     },
     "execution_count": 8,
     "metadata": {},
     "output_type": "execute_result"
    }
   ],
   "source": [
    "S_o = sum(S_j) - (sum(T_j)**2)/(p*q)\n",
    "S_o"
   ]
  },
  {
   "attachments": {
    "image.png": {
     "image/png": "[encoded data removed]"
    }
   },
   "cell_type": "markdown",
   "metadata": {},
   "source": [
    "![image.png](attachment:image.png)"
   ]
  },
  {
   "cell_type": "code",
   "execution_count": 9,
   "metadata": {},
   "outputs": [
    {
     "data": {
      "text/plain": [
       "288.1333333333332"
      ]
     },
     "execution_count": 9,
     "metadata": {},
     "output_type": "execute_result"
    }
   ],
   "source": [
    "S_f = sum(T2_j)/q - (sum(T_j)**2)/(p*q)\n",
    "S_f"
   ]
  },
  {
   "cell_type": "markdown",
   "metadata": {},
   "source": [
    "Вычислим остаточную сумму квадратов отклонения"
   ]
  },
  {
   "attachments": {
    "image.png": {
     "image/png": "[encoded data removed]"
    }
   },
   "cell_type": "markdown",
   "metadata": {},
   "source": [
    "![image.png](attachment:image.png)"
   ]
  },
  {
   "cell_type": "code",
   "execution_count": 10,
   "metadata": {},
   "outputs": [
    {
     "data": {
      "text/plain": [
       "1417.6000000000004"
      ]
     },
     "execution_count": 10,
     "metadata": {},
     "output_type": "execute_result"
    }
   ],
   "source": [
    "S_ost = S_o - S_f\n",
    "S_ost"
   ]
  },
  {
   "cell_type": "markdown",
   "metadata": {},
   "source": [
    "Найдем общую и факторную дисперсии"
   ]
  },
  {
   "attachments": {
    "image.png": {
     "image/png": "[encoded data removed]"
    }
   },
   "cell_type": "markdown",
   "metadata": {},
   "source": [
    "![image.png](attachment:image.png)"
   ]
  },
  {
   "cell_type": "code",
   "execution_count": 11,
   "metadata": {},
   "outputs": [
    {
     "data": {
      "text/plain": [
       "144.0666666666666"
      ]
     },
     "execution_count": 11,
     "metadata": {},
     "output_type": "execute_result"
    }
   ],
   "source": [
    "d_f = S_f/(p-1)\n",
    "d_f"
   ]
  },
  {
   "attachments": {
    "image.png": {
     "image/png": "[encoded data removed]"
    }
   },
   "cell_type": "markdown",
   "metadata": {},
   "source": [
    "![image.png](attachment:image.png)"
   ]
  },
  {
   "cell_type": "code",
   "execution_count": 12,
   "metadata": {},
   "outputs": [
    {
     "data": {
      "text/plain": [
       "118.13333333333337"
      ]
     },
     "execution_count": 12,
     "metadata": {},
     "output_type": "execute_result"
    }
   ],
   "source": [
    "d_ost = S_ost/(p*(q-1))\n",
    "d_ost"
   ]
  },
  {
   "cell_type": "markdown",
   "metadata": {},
   "source": [
    "Сравним факторную и остаточную дисперсии по критерию Фишера-Снедекора"
   ]
  },
  {
   "attachments": {
    "image.png": {
     "image/png": "[encoded data removed]"
    }
   },
   "cell_type": "markdown",
   "metadata": {},
   "source": [
    "![image.png](attachment:image.png)"
   ]
  },
  {
   "cell_type": "code",
   "execution_count": 13,
   "metadata": {},
   "outputs": [
    {
     "data": {
      "text/plain": [
       "1.219525959367945"
      ]
     },
     "execution_count": 13,
     "metadata": {},
     "output_type": "execute_result"
    }
   ],
   "source": [
    "F_n = d_f/d_ost\n",
    "F_n"
   ]
  },
  {
   "cell_type": "markdown",
   "metadata": {},
   "source": [
    "Число степеней свободы ${k_1} = p - 1 = 2,\\,{k_2} = p\\left( {q - 1} \\right) = 12$, уровень значимости зададим $\\alpha  = 0.05$, критическая точка ${F_{крит.}} = 3.88$. Исходя из того, что ${F_{набл.}} < {F_{крит.}}\\left( {1.21 < 3.88} \\right)$ следует принять нулевую гипотезу, влияние фактора на качетсво объекта."
   ]
  },
  {
   "cell_type": "code",
   "execution_count": null,
   "metadata": {},
   "outputs": [],
   "source": []
  }
 ],
 "metadata": {
  "kernelspec": {
   "display_name": "Python 3",
   "language": "python",
   "name": "python3"
  },
  "language_info": {
   "codemirror_mode": {
    "name": "ipython",
    "version": 3
   },
   "file_extension": ".py",
   "mimetype": "text/x-python",
   "name": "python",
   "nbconvert_exporter": "python",
   "pygments_lexer": "ipython3",
   "version": "3.7.4"
  }
 },
 "nbformat": 4,
 "nbformat_minor": 4
}
